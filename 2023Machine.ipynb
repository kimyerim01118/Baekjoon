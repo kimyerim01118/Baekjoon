{
  "nbformat": 4,
  "nbformat_minor": 0,
  "metadata": {
    "colab": {
      "provenance": [],
      "authorship_tag": "ABX9TyMi9lObkmQVDPLMn9t2USso",
      "include_colab_link": true
    },
    "kernelspec": {
      "name": "python3",
      "display_name": "Python 3"
    },
    "language_info": {
      "name": "python"
    }
  },
  "cells": [
    {
      "cell_type": "markdown",
      "metadata": {
        "id": "view-in-github",
        "colab_type": "text"
      },
      "source": [
        "<a href=\"https://colab.research.google.com/github/yr0118kim/2023_algorithm/blob/main/2023Machine.ipynb\" target=\"_parent\"><img src=\"https://colab.research.google.com/assets/colab-badge.svg\" alt=\"Open In Colab\"/></a>"
      ]
    },
    {
      "cell_type": "code",
      "execution_count": null,
      "metadata": {
        "colab": {
          "base_uri": "https://localhost:8080/"
        },
        "id": "JtTCjAFHXjSV",
        "outputId": "bb05297b-3565-402b-d67e-13adb696ea67"
      },
      "outputs": [
        {
          "output_type": "execute_result",
          "data": {
            "text/plain": [
              "86400"
            ]
          },
          "metadata": {},
          "execution_count": 1
        }
      ],
      "source": [
        "seconds_in_a_day = 24*60*60\n",
        "seconds_in_a_day"
      ]
    },
    {
      "cell_type": "markdown",
      "source": [
        "![header](https://capsule-render.vercel.app/api?type=wave&color=timeGradient&height=300&section=header&text=Machin_Leaning&fontSize=90)\n",
        "#HELLO THERE:)\n",
        "#대구 소프트웨어 마이스터고\n",
        "##2학년 4반 김예림\n",
        "![Anurag's GitHub stats](https://github-readme-stats.vercel.app/api?username=yr0118kim&show_icons=true&theme=radical)\n",
        "> Follow your heart❤️\n",
        "\n",
        "* 머신러닝 배우는 중\n",
        "* Frontend 개발자\n",
        "* 7교시 언제 끝나아아\n",
        "\n",
        "\n",
        "\n",
        "\n"
      ],
      "metadata": {
        "id": "QXkSK2IUaxVI"
      }
    }
  ]
}